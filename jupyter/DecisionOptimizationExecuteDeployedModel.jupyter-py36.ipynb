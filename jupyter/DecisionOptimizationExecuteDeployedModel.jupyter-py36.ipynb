{
 "cells": [
  {
   "cell_type": "markdown",
   "metadata": {
    "deletable": true,
    "editable": true
   },
   "source": [
    "In order to use this example, you must first have deployed the Diet example.\n",
    "A REST API is provided to submit input data, solve, and get results.\n",
    "Its use is shown below."
   ]
  },
  {
   "cell_type": "code",
   "execution_count": null,
   "metadata": {
    "collapsed": false,
    "deletable": true,
    "editable": true
   },
   "outputs": [],
   "source": [
    "import requests \n",
    "import json\n",
    "import pandas\n",
    "import os\n",
    "\n",
    "server = \"ibm-nginx-svc\"\n",
    "\n",
    "urlAlias = \"arno\"\n",
    "deployedAssetName = \"diet\"\n",
    "savedModelName = \"savedDiet\"\n",
    "\n",
    "executionServiceURL = 'https://' + server + \"/dsvc/v1/\" + urlAlias + \"/domodel/\" + deployedAssetName\n",
    "executionServiceModelURL = executionServiceURL + \"/model/\" + savedModelName"
   ]
  },
  {
   "cell_type": "code",
   "execution_count": null,
   "metadata": {
    "collapsed": false,
    "deletable": true,
    "editable": true
   },
   "outputs": [],
   "source": [
    "executionToken = \"<Here paste the token you can find in IBM Watson Machine Learning>\"\n",
    "headers = {\"Authorization\" : executionToken}"
   ]
  },
  {
   "cell_type": "code",
   "execution_count": null,
   "metadata": {
    "collapsed": false,
    "deletable": true,
    "editable": true
   },
   "outputs": [],
   "source": [
    "# GET Solve configuration \n",
    "r = requests.get(executionServiceModelURL,  headers=headers)\n",
    "obj = r.json();\n",
    "SOLVE_URL = [x['uri'] for x in obj['deploymentDescription']['links'] if x['target'] == 'solve'][0]\n",
    "SOLVE_CONFIG = obj['deploymentDescription']['solveConfig']\n"
   ]
  },
  {
   "cell_type": "markdown",
   "metadata": {},
   "source": [
    "# Debug\n",
    "If needed, you can export input/output tables and the model for a given job.  \n",
    "This can be done either:\n",
    "  * in the deployment:\n",
    "The run configuration is now part of the saved model.  \n",
    "If you activate the dump of debug material by specifying `oaas.dumpZipName`.  \n",
    "You can also specify some rules that trigger the dump. That can be done using `oaas.dumpZipRules`.  \n",
    "The dump zip file is generated in this specific container: `/data/containers/debug` \n",
    "  * in Job solve configuration:  \n",
    "As follows."
   ]
  },
  {
   "cell_type": "code",
   "execution_count": null,
   "metadata": {
    "collapsed": false,
    "deletable": true,
    "editable": true
   },
   "outputs": [],
   "source": [
    "SOLVE_CONFIG['solveParameters'] = {\"oaas.dumpZipName\": \"\"}\n",
    "SOLVE_CONFIG['attachments'].append({'category': 'output', 'type': 'CONTAINER', 'containerId': 'debug', 'name' : '.*\\\\.zip'})\n"
   ]
  },
  {
   "cell_type": "markdown",
   "metadata": {
    "deletable": true,
    "editable": true
   },
   "source": [
    "# Prepare the data for the solve"
   ]
  },
  {
   "cell_type": "code",
   "execution_count": null,
   "metadata": {
    "collapsed": false,
    "deletable": true,
    "editable": true
   },
   "outputs": [],
   "source": [
    "solve_data = {}\n",
    "diet_food_columns=[\"name\",\"unit_cost\",\"qmin\",\"qmax\"]\n",
    "diet_food_data=[\n",
    "    (\"Roasted Chicken\", 0.84, 0, 10),\n",
    "    (\"Spaghetti W/ Sauce\", 0.78, 0, 10),\n",
    "    (\"Tomato,Red,Ripe,Raw\", 0.27, 0, 10),\n",
    "    (\"Apple,Raw,W/Skin\", .24, 0, 10),\n",
    "    (\"Grapes\", 0.32, 0, 10),\n",
    "    (\"Chocolate Chip Cookies\", 0.03, 0, 10),\n",
    "    (\"Lowfat Milk\", 0.23, 0, 10),\n",
    "    (\"Raisin Brn\", 0.34, 0, 10),\n",
    "    (\"Hotdog\", 0.31, 0, 10)]\n",
    "solve_data['diet_food'] = pandas.DataFrame.from_records(diet_food_data,columns=diet_food_columns)\n",
    "\n",
    "diet_nutrients_columns=[\"name\",\"qmin\",\"qmax\"]\n",
    "diet_nutrients_data=[\n",
    "    (\"Calories\", 2000, 2500),\n",
    "    (\"Calcium\", 800, 1600),\n",
    "    (\"Iron\", 10, 30),\n",
    "    (\"Vit_A\", 5000, 50000),\n",
    "    (\"Dietary_Fiber\", 25, 100),\n",
    "    (\"Carbohydrates\", 0, 300),\n",
    "    (\"Protein\", 50, 100)]\n",
    "solve_data['diet_nutrients'] = pandas.DataFrame.from_records(diet_nutrients_data,columns=diet_nutrients_columns)\n",
    "\n",
    "diet_food_nutrients_columns=[\"Food\",\"Calories\",\"Calcium\",\"Iron\",\"Vit_A\",\"Dietary_Fiber\",\"Carbohydrates\",\"Protein\"]\n",
    "diet_food_nutrients_data=[\n",
    "    (\"Roasted Chicken\", 277.4, 21.9, 1.8, 77.4, 0, 0, 42.2),\n",
    "    (\"Spaghetti W/ Sauce\", 358.2, 80.2, 2.3, 3055.2, 11.6, 58.3, 8.2),\n",
    "    (\"Tomato,Red,Ripe,Raw\", 25.8, 6.2, 0.6, 766.3, 1.4, 5.7, 1),\n",
    "    (\"Apple,Raw,W/Skin\", 81.4, 9.7, 0.2, 73.1, 3.7, 21, 0.3),\n",
    "    (\"Grapes\", 15.1, 3.4, 0.1, 24, 0.2, 4.1, 0.2),\n",
    "    (\"Chocolate Chip Cookies\", 78.1, 6.2, 0.4, 101.8, 0, 9.3, 0.9),\n",
    "    (\"Lowfat Milk\", 121.2, 296.7, 0.1, 500.2, 0, 11.7, 8.1),\n",
    "    (\"Raisin Brn\", 115.1, 12.9, 16.8, 1250.2, 4, 27.9, 4),\n",
    "    (\"Hotdog\", 242.1, 23.5, 2.3, 0, 0, 18, 10.4)]\n",
    "solve_data['diet_food_nutrients'] = pandas.DataFrame.from_records(diet_food_nutrients_data,columns=diet_food_nutrients_columns)\n",
    " \n",
    "files = {'solveconfig': json.dumps(SOLVE_CONFIG)};\n",
    "for i in solve_data:\n",
    "    files[i+'.csv'] = solve_data[i].to_csv();"
   ]
  },
  {
   "cell_type": "markdown",
   "metadata": {
    "deletable": true,
    "editable": true
   },
   "source": [
    "# Execution"
   ]
  },
  {
   "cell_type": "code",
   "execution_count": null,
   "metadata": {
    "collapsed": false,
    "deletable": true,
    "editable": true
   },
   "outputs": [],
   "source": [
    "# Send the job\n",
    "r = requests.post(SOLVE_URL, files=files, headers=headers)\n",
    "obj = r.json();\n",
    "\n",
    "JOB_URL = [x['href'] for x in obj['links'] if x['rel'] == 'self'][0]\n",
    "\n",
    "# Pool for Job status\n",
    "from time import sleep\n",
    "\n",
    "while True:\n",
    "    sleep(1)\n",
    "    r = requests.get(JOB_URL, headers=headers)\n",
    "    executionStatus = r.json();\n",
    "    status = executionStatus['solveState']['executionStatus']\n",
    "    print(status)\n",
    "    if status == \"PROCESSED\":\n",
    "        for o in executionStatus['outputAttachments']:\n",
    "            print(o['name'] + '  ' + o['url'])\n",
    "        break\n",
    "    if status == \"FAILED\":\n",
    "        print(\"Failure message: \" + executionStatus['solveState']['failureInfo']['message'])\n",
    "        break\n",
    "    if status == \"INTERRUPTED\":\n",
    "        print(\"Interruption status: \" + executionStatus['solveState']['interruptionStatus'])\n",
    "        break\n",
    "        "
   ]
  },
  {
   "cell_type": "markdown",
   "metadata": {
    "deletable": true,
    "editable": true
   },
   "source": [
    "# Retrieve debug material\n",
    "In this example, the dump zip file is saved in notebook folder.  \n",
    "This dump zip file can be used to create a new scenario (Using the right-hand-side panel in the Model Builder, 'Create Scenario From file')\n"
   ]
  },
  {
   "cell_type": "code",
   "execution_count": null,
   "metadata": {
    "collapsed": false,
    "deletable": true,
    "editable": true
   },
   "outputs": [],
   "source": [
    "for o in executionStatus['outputAttachments']:\n",
    "    if \"dump_\" in o['name']:\n",
    "        zipName = o['name']\n",
    "        DEBUG_FILE =  o['url']\n",
    "        print(DEBUG_FILE)\n",
    "        z = requests.get(DEBUG_FILE, headers=headers,stream=True)\n",
    "        f = open(zipName, 'wb')\n",
    "        for chunk in z.iter_content(chunk_size=512 * 1024):\n",
    "            if chunk:\n",
    "                f.write(chunk)\n",
    "            f.close()"
   ]
  },
  {
   "cell_type": "markdown",
   "metadata": {
    "deletable": true,
    "editable": true
   },
   "source": [
    "# Cleanup\n",
    "Need to delete the job from the execution service as well as the debug file from the \"debug\" container, to free space on the cluster\n"
   ]
  },
  {
   "cell_type": "code",
   "execution_count": null,
   "metadata": {
    "collapsed": false,
    "deletable": true,
    "editable": true
   },
   "outputs": [],
   "source": [
    "requests.delete(JOB_URL, headers=headers)\n",
    "requests.delete(executionServiceURL+'/data/containers/debug/'+zipName, headers=headers)\n"
   ]
  },
  {
   "cell_type": "code",
   "execution_count": null,
   "metadata": {
    "collapsed": true
   },
   "outputs": [],
   "source": []
  }
 ],
 "metadata": {
  "kernelspec": {
   "display_name": "Python3.6",
   "language": "python",
   "name": "python3"
  },
  "language_info": {
   "codemirror_mode": {
    "name": "ipython",
    "version": 3
   },
   "file_extension": ".py",
   "mimetype": "text/x-python",
   "name": "python",
   "nbconvert_exporter": "python",
   "pygments_lexer": "ipython3",
   "version": "3.6.6"
  }
 },
 "nbformat": 4,
 "nbformat_minor": 2
}
